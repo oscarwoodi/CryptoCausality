{
 "cells": [
  {
   "cell_type": "markdown",
   "metadata": {},
   "source": [
    "# Strategy Testing\n",
    "\n",
    "## Strategy Description\n",
    "\n",
    "### Iteration 1\n",
    "- Using rolling single pair granger causality tests to determine which tokens are causal at any one point in time\n",
    "- At that point, fit a multivaraite rolling granger causality to predict the next data point\n",
    "- Trade with size determined by goodness of fit and predicted change \n",
    "\n",
    "- Vary across different time frames\n",
    "- Keep window size fixed (1hr for minute data, 24 hr for hour data, 30 days for daily data)\n",
    "\n",
    "___"
   ]
  },
  {
   "cell_type": "markdown",
   "metadata": {},
   "source": [
    "### 1. Load Data"
   ]
  },
  {
   "cell_type": "markdown",
   "metadata": {
    "vscode": {
     "languageId": "plaintext"
    }
   },
   "source": [
    "### 2. Load Causal test data"
   ]
  },
  {
   "cell_type": "code",
   "execution_count": null,
   "metadata": {
    "vscode": {
     "languageId": "plaintext"
    }
   },
   "outputs": [],
   "source": [
    "### 3. "
   ]
  }
 ],
 "metadata": {
  "language_info": {
   "name": "python"
  }
 },
 "nbformat": 4,
 "nbformat_minor": 2
}
