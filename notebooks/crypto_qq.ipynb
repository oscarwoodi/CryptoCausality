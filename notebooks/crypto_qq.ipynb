{
 "cells": [
  {
   "cell_type": "markdown",
   "id": "123b69b2",
   "metadata": {
    "lines_to_next_cell": 0
   },
   "source": [
    "## Additional Analysis: QQ Plots\n",
    "Summary: QQ plots are used to compare the distribution of a dataset to a normal\n",
    "distribution. If the dataset is normally distributed, the points should fall along a\n",
    "straight line. If the points deviate from the line, it indicates a deviation from\n",
    "normality.\n",
    "\n",
    "Also, QQ plots can be used to compare the distributions of two datasets,\n",
    "including the Kolmogorov-Smirnov test to check if the distributions are significantly\n",
    "different. Finally we can use the Shapiro-Wilk test to check if a dataset is normally\n",
    "distributed.\n",
    "Finally, QQ plats can tell us if thhe tail behaviour of the two distributions is\n",
    "similar or not, if one is more extreme moves than the otehter, etc\n",
    "And whether they may be driven by similar underlying factors.\n",
    "\n",
    "\n",
    "import glob\n",
    "import itertools\n",
    "import os\n",
    "\n",
    "import matplotlib.pyplot as plt\n",
    "import numpy as np"
   ]
  },
  {
   "cell_type": "code",
   "execution_count": null,
   "id": "c2fdb7d3",
   "metadata": {
    "lines_to_next_cell": 2
   },
   "outputs": [],
   "source": [
    "import pandas as pd\n",
    "import pyarrow.parquet as pq\n",
    "import scipy.stats as stats\n",
    "import seaborn as sns\n",
    "\n",
    "# Set style for better visualizations\n",
    "sns.set_theme()\n",
    "plt.rcParams[\"figure.figsize\"] = [12, 6]"
   ]
  },
  {
   "cell_type": "markdown",
   "id": "92136c27",
   "metadata": {
    "lines_to_next_cell": 2
   },
   "source": [
    "## Load and Prepare Data"
   ]
  },
  {
   "cell_type": "code",
   "execution_count": null,
   "id": "c9be1b29",
   "metadata": {
    "lines_to_next_cell": 2
   },
   "outputs": [],
   "source": [
    "def load_and_prepare_data(data_dir=\"./data/processed/\"):\n",
    "    returns_data = {}\n",
    "\n",
    "    for file in glob.glob(os.path.join(data_dir, \"*.parquet\")):\n",
    "        symbol = os.path.basename(file).split(\"_\")[0]\n",
    "        df = pq.read_table(file).to_pandas()\n",
    "\n",
    "        # Calculate log returns\n",
    "        df[\"log_returns\"] = np.log(df[\"close\"]).diff()\n",
    "        returns_data[symbol] = df[\"log_returns\"].dropna()\n",
    "\n",
    "    return returns_data"
   ]
  },
  {
   "cell_type": "markdown",
   "id": "e804a9bd",
   "metadata": {
    "lines_to_next_cell": 2
   },
   "source": [
    "## QQ Plots vs Normal Distribution"
   ]
  },
  {
   "cell_type": "code",
   "execution_count": null,
   "id": "2cd490a9",
   "metadata": {
    "lines_to_next_cell": 2
   },
   "outputs": [],
   "source": [
    "def plot_qq_normal(returns_data):\n",
    "    \"\"\"Create QQ plots comparing each cryptocurrency's returns to normal distribution.\"\"\"\n",
    "    n_symbols = len(returns_data)\n",
    "    n_cols = 2\n",
    "    n_rows = (n_symbols + n_cols - 1) // n_cols\n",
    "\n",
    "    fig, axes = plt.subplots(n_rows, n_cols, figsize=(15, 5 * n_rows))\n",
    "    fig.suptitle(\"QQ Plots vs Normal Distribution\", fontsize=16, y=1.02)\n",
    "\n",
    "    # Flatten axes for easier iteration\n",
    "    if n_rows > 1:\n",
    "        axes_flat = axes.flatten()\n",
    "    else:\n",
    "        axes_flat = [axes] if n_cols == 1 else axes\n",
    "\n",
    "    for (symbol, returns), ax in zip(returns_data.items(), axes_flat):\n",
    "        # Standardize returns\n",
    "        standardized_returns = (returns - returns.mean()) / returns.std()\n",
    "\n",
    "        # Create QQ plot\n",
    "        stats.probplot(standardized_returns, dist=\"norm\", plot=ax)\n",
    "        ax.set_title(f\"{symbol} Returns vs Normal Distribution\")\n",
    "\n",
    "        # Calculate and display Shapiro-Wilk test\n",
    "        stat, p_value = stats.shapiro(standardized_returns)\n",
    "        ax.text(\n",
    "            0.05,\n",
    "            0.95,\n",
    "            f\"Shapiro-Wilk p-value: {p_value:.2e}\",\n",
    "            transform=ax.transAxes,\n",
    "            fontsize=10,\n",
    "            verticalalignment=\"top\",\n",
    "        )\n",
    "\n",
    "    # Remove empty subplots if any\n",
    "    for idx in range(len(returns_data), len(axes_flat)):\n",
    "        fig.delaxes(axes_flat[idx])\n",
    "\n",
    "    plt.tight_layout()\n",
    "    plt.show()"
   ]
  },
  {
   "cell_type": "markdown",
   "id": "57c88e60",
   "metadata": {
    "lines_to_next_cell": 2
   },
   "source": [
    "## QQ Plots Between Pairs of Cryptocurrencies"
   ]
  },
  {
   "cell_type": "code",
   "execution_count": null,
   "id": "eb2aacb7",
   "metadata": {},
   "outputs": [],
   "source": [
    "def plot_qq_pairs(returns_data):\n",
    "    \"\"\"Create QQ plots comparing returns distributions between pairs of cryptocurrencies.\"\"\"\n",
    "    pairs = list(itertools.combinations(returns_data.keys(), 2))\n",
    "    n_pairs = len(pairs)\n",
    "    n_cols = 2\n",
    "    n_rows = (n_pairs + n_cols - 1) // n_cols\n",
    "\n",
    "    fig, axes = plt.subplots(n_rows, n_cols, figsize=(15, 5 * n_rows))\n",
    "    fig.suptitle(\"QQ Plots Between Cryptocurrency Pairs\", fontsize=16, y=1.02)\n",
    "\n",
    "    # Flatten axes for easier iteration\n",
    "    axes_flat = axes.flatten() if isinstance(axes, np.ndarray) else [axes]\n",
    "\n",
    "    for (symbol1, symbol2), ax in zip(pairs, axes_flat):\n",
    "        returns1 = returns_data[symbol1]\n",
    "        returns2 = returns_data[symbol2]\n",
    "\n",
    "        # Standardize both return series\n",
    "        std_returns1 = (returns1 - returns1.mean()) / returns1.std()\n",
    "        std_returns2 = (returns2 - returns2.mean()) / returns2.std()\n",
    "\n",
    "        # Get common length\n",
    "        min_len = min(len(std_returns1), len(std_returns2))\n",
    "        std_returns1 = std_returns1[:min_len]\n",
    "        std_returns2 = std_returns2[:min_len]\n",
    "\n",
    "        # Sort both series\n",
    "        sorted1 = np.sort(std_returns1)\n",
    "        sorted2 = np.sort(std_returns2)\n",
    "\n",
    "        # Create QQ plot\n",
    "        ax.scatter(sorted1, sorted2, alpha=0.5)\n",
    "\n",
    "        # Add diagonal line\n",
    "        min_val = min(sorted1.min(), sorted2.min())\n",
    "        max_val = max(sorted1.max(), sorted2.max())\n",
    "        ax.plot([min_val, max_val], [min_val, max_val], \"r--\")\n",
    "\n",
    "        ax.set_title(f\"QQ Plot: {symbol1} vs {symbol2}\")\n",
    "        ax.set_xlabel(f\"{symbol1} Standardized Returns\")\n",
    "        ax.set_ylabel(f\"{symbol2} Standardized Returns\")\n",
    "\n",
    "        # Calculate and display Kolmogorov-Smirnov test\n",
    "        ks_stat, p_value = stats.ks_2samp(std_returns1, std_returns2)\n",
    "        ax.text(\n",
    "            0.05,\n",
    "            0.95,\n",
    "            f\"KS test p-value: {p_value:.2e}\",\n",
    "            transform=ax.transAxes,\n",
    "            fontsize=10,\n",
    "            verticalalignment=\"top\",\n",
    "        )\n",
    "\n",
    "    # Remove empty subplots if any\n",
    "    for idx in range(len(pairs), len(axes_flat)):\n",
    "        fig.delaxes(axes_flat[idx])\n",
    "\n",
    "    plt.tight_layout()\n",
    "    plt.show()"
   ]
  },
  {
   "cell_type": "markdown",
   "id": "6418d7f7",
   "metadata": {},
   "source": [
    "## Run Analysis"
   ]
  },
  {
   "cell_type": "code",
   "execution_count": null,
   "id": "87d089d8",
   "metadata": {},
   "outputs": [],
   "source": [
    "# Load data\n",
    "returns_data = load_and_prepare_data()\n",
    "\n",
    "# Plot QQ plots vs normal distribution\n",
    "print(\"QQ Plots vs Normal Distribution\")\n",
    "plot_qq_normal(returns_data)\n",
    "\n",
    "# Plot QQ plots between pairs\n",
    "print(\"\\nQQ Plots Between Cryptocurrency Pairs\")\n",
    "plot_qq_pairs(returns_data)"
   ]
  },
  {
   "cell_type": "markdown",
   "id": "7c4aa710",
   "metadata": {
    "lines_to_next_cell": 2
   },
   "source": [
    "## Summary Statistics of Deviations from Normal"
   ]
  },
  {
   "cell_type": "code",
   "execution_count": null,
   "id": "2b76676c",
   "metadata": {},
   "outputs": [],
   "source": [
    "def print_distribution_stats(returns_data):\n",
    "    \"\"\"Print summary statistics about the distribution of returns.\"\"\"\n",
    "    stats_df = pd.DataFrame(\n",
    "        columns=[\"Mean\", \"Std\", \"Skewness\", \"Kurtosis\", \"Shapiro-Wilk p-value\"]\n",
    "    )\n",
    "\n",
    "    for symbol, returns in returns_data.items():\n",
    "        # Standardize returns\n",
    "        std_returns = (returns - returns.mean()) / returns.std()\n",
    "\n",
    "        # Calculate statistics\n",
    "        sw_stat, sw_p = stats.shapiro(std_returns)\n",
    "\n",
    "        stats_df.loc[symbol] = [\n",
    "            returns.mean(),\n",
    "            returns.std(),\n",
    "            stats.skew(returns),\n",
    "            stats.kurtosis(returns),  # Fisher kurtosis (normal = 0)\n",
    "            sw_p,\n",
    "        ]\n",
    "\n",
    "    print(\"\\nDistribution Statistics:\")\n",
    "    print(stats_df)\n",
    "\n",
    "\n",
    "print_distribution_stats(returns_data)"
   ]
  }
 ],
 "metadata": {
  "jupytext": {
   "cell_metadata_filter": "-all",
   "main_language": "python",
   "notebook_metadata_filter": "-all"
  }
 },
 "nbformat": 4,
 "nbformat_minor": 5
}
