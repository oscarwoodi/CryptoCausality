{
 "cells": [
  {
   "cell_type": "code",
   "execution_count": 1,
   "id": "19caecf0",
   "metadata": {},
   "outputs": [],
   "source": [
    "import datetime\n",
    "\n",
    "#import dask.dataframe as dd\n",
    "import numpy as np\n",
    "import pandas as pd\n",
    "from xbbg import blp"
   ]
  },
  {
   "cell_type": "code",
   "execution_count": 2,
   "id": "855c920b",
   "metadata": {},
   "outputs": [],
   "source": [
    "Ticker_dict={\n",
    "    # US, Germany, Italy, France, GBP, Spain, JPY\n",
    "    'curncy':{\n",
    "        'tickers':[\n",
    "            'SEKUSD','NOKUSD','HKDUSD','NZDUSD','AUDUSD','CADUSD','CHFUSD','GBPUSD','JPYUSD','EURUSD','SEKEUR','NOKEUR',\n",
    "            'HKDEUR','NZDEUR','AUDEUR','CADEUR','CHFEUR','GBPEUR','JPYEUR','SEKJPY','NOKJPY','HKDJPY','NZDJPY','AUDJPY',\n",
    "            'CADJPY','CHFJPY','GBPJPY','SEKGBP','NOKGBP','HKDGBP','NZDGBP','AUDGBP','CADGBP','CHFGBP','GBPGBP','SEKCHF',\n",
    "            'NOKCHF','HKDCHF','NZDCHF','AUDCHF','CADCHF','SEKCAD','NOKCAD','HKDCAD','NZDCAD','AUDCAD','SEKAUD','NOKAUD',\n",
    "            'HKDAUD','NZDAUD','SEKNZD','NOKNZD','HKDNZD','SEKHKD','NOKHKD','SEKNOK'\n",
    "\n",
    "        ],\n",
    "\n",
    "        'fields':['PX_LAST','PX_BID','PX_ASK','PX_MID','PX_HIGH','PX_LOW','PX_OPEN']           \n",
    "    },\n",
    "}"
   ]
  },
  {
   "cell_type": "code",
   "execution_count": 3,
   "id": "87a5bc57",
   "metadata": {},
   "outputs": [],
   "source": [
    "API_TASKS={}\n",
    "for k in Ticker_dict.keys():\n",
    "    API_TASKS[k] = {\n",
    "    'instruments':[x+' Curncy' for x in Ticker_dict[k]['tickers']],\n",
    "    'fields' : Ticker_dict[k]['fields']}\n",
    "\n",
    "    # 'Curncy'?\n",
    "    "
   ]
  },
  {
   "cell_type": "code",
   "execution_count": 4,
   "id": "3c2899cd",
   "metadata": {},
   "outputs": [
    {
     "data": {
      "text/plain": [
       "dict_values([{'instruments': ['SEKUSD Curncy', 'NOKUSD Curncy', 'HKDUSD Curncy', 'NZDUSD Curncy', 'AUDUSD Curncy', 'CADUSD Curncy', 'CHFUSD Curncy', 'GBPUSD Curncy', 'JPYUSD Curncy', 'EURUSD Curncy', 'SEKEUR Curncy', 'NOKEUR Curncy', 'HKDEUR Curncy', 'NZDEUR Curncy', 'AUDEUR Curncy', 'CADEUR Curncy', 'CHFEUR Curncy', 'GBPEUR Curncy', 'JPYEUR Curncy', 'SEKJPY Curncy', 'NOKJPY Curncy', 'HKDJPY Curncy', 'NZDJPY Curncy', 'AUDJPY Curncy', 'CADJPY Curncy', 'CHFJPY Curncy', 'GBPJPY Curncy', 'SEKGBP Curncy', 'NOKGBP Curncy', 'HKDGBP Curncy', 'NZDGBP Curncy', 'AUDGBP Curncy', 'CADGBP Curncy', 'CHFGBP Curncy', 'GBPGBP Curncy', 'SEKCHF Curncy', 'NOKCHF Curncy', 'HKDCHF Curncy', 'NZDCHF Curncy', 'AUDCHF Curncy', 'CADCHF Curncy', 'SEKCAD Curncy', 'NOKCAD Curncy', 'HKDCAD Curncy', 'NZDCAD Curncy', 'AUDCAD Curncy', 'SEKAUD Curncy', 'NOKAUD Curncy', 'HKDAUD Curncy', 'NZDAUD Curncy', 'SEKNZD Curncy', 'NOKNZD Curncy', 'HKDNZD Curncy', 'SEKHKD Curncy', 'NOKHKD Curncy', 'SEKNOK Curncy'], 'fields': ['PX_LAST', 'PX_BID', 'PX_ASK', 'PX_MID', 'PX_HIGH', 'PX_LOW', 'PX_OPEN']}])"
      ]
     },
     "execution_count": 4,
     "metadata": {},
     "output_type": "execute_result"
    }
   ],
   "source": [
    "API_TASKS.values()"
   ]
  },
  {
   "cell_type": "code",
   "execution_count": 20,
   "id": "fb31713b",
   "metadata": {},
   "outputs": [
    {
     "name": "stdout",
     "output_type": "stream",
     "text": [
      "curncy\n",
      "['SEKUSD Curncy', 'NOKUSD Curncy', 'HKDUSD Curncy', 'NZDUSD Curncy', 'AUDUSD Curncy', 'CADUSD Curncy', 'CHFUSD Curncy', 'GBPUSD Curncy', 'JPYUSD Curncy', 'EURUSD Curncy', 'SEKEUR Curncy', 'NOKEUR Curncy', 'HKDEUR Curncy', 'NZDEUR Curncy', 'AUDEUR Curncy', 'CADEUR Curncy', 'CHFEUR Curncy', 'GBPEUR Curncy', 'JPYEUR Curncy', 'SEKJPY Curncy', 'NOKJPY Curncy', 'HKDJPY Curncy', 'NZDJPY Curncy', 'AUDJPY Curncy', 'CADJPY Curncy', 'CHFJPY Curncy', 'GBPJPY Curncy', 'SEKGBP Curncy', 'NOKGBP Curncy', 'HKDGBP Curncy', 'NZDGBP Curncy', 'AUDGBP Curncy', 'CADGBP Curncy', 'CHFGBP Curncy', 'GBPGBP Curncy', 'SEKCHF Curncy', 'NOKCHF Curncy', 'HKDCHF Curncy', 'NZDCHF Curncy', 'AUDCHF Curncy', 'CADCHF Curncy', 'SEKCAD Curncy', 'NOKCAD Curncy', 'HKDCAD Curncy', 'NZDCAD Curncy', 'AUDCAD Curncy', 'SEKAUD Curncy', 'NOKAUD Curncy', 'HKDAUD Curncy', 'NZDAUD Curncy', 'SEKNZD Curncy', 'NOKNZD Curncy', 'HKDNZD Curncy', 'SEKHKD Curncy', 'NOKHKD Curncy', 'SEKNOK Curncy']\n",
      "['PX_LAST', 'PX_BID', 'PX_ASK', 'PX_MID', 'PX_HIGH', 'PX_LOW', 'PX_OPEN']\n"
     ]
    },
    {
     "data": {
      "text/plain": [
       "56"
      ]
     },
     "execution_count": 20,
     "metadata": {},
     "output_type": "execute_result"
    }
   ],
   "source": [
    "for i in API_TASKS.keys():\n",
    "    print(i)   #API_TASKS[i].keys())\n",
    "    print(API_TASKS[i]['instruments'])\n",
    "    print(API_TASKS[i]['fields'])\n",
    "#     print(f'Number of crosses we are downloading { len( API_TASKS[ i ][ 'instruments' ] ) }')\n",
    "#     print(f'Number of field we are downloading {len(API_TASKS[i]['fields'])}')\n",
    "len(API_TASKS['curncy']['instruments'])"
   ]
  },
  {
   "cell_type": "code",
   "execution_count": null,
   "id": "f1c6175a",
   "metadata": {},
   "outputs": [],
   "source": []
  },
  {
   "cell_type": "code",
   "execution_count": 6,
   "id": "bdf7dcf0",
   "metadata": {},
   "outputs": [],
   "source": [
    "start_date=datetime.date(2000,1,1)\n",
    "end_date = datetime.date.today()"
   ]
  },
  {
   "cell_type": "code",
   "execution_count": 7,
   "id": "3a35f464",
   "metadata": {},
   "outputs": [],
   "source": [
    "all_data = pd.DataFrame()\n",
    "df = {}"
   ]
  },
  {
   "cell_type": "code",
   "execution_count": 8,
   "id": "139b82d8",
   "metadata": {},
   "outputs": [
    {
     "name": "stdout",
     "output_type": "stream",
     "text": [
      "curncy\n",
      "['SEKUSD Curncy', 'NOKUSD Curncy', 'HKDUSD Curncy', 'NZDUSD Curncy', 'AUDUSD Curncy', 'CADUSD Curncy', 'CHFUSD Curncy', 'GBPUSD Curncy', 'JPYUSD Curncy', 'EURUSD Curncy', 'SEKEUR Curncy', 'NOKEUR Curncy', 'HKDEUR Curncy', 'NZDEUR Curncy', 'AUDEUR Curncy', 'CADEUR Curncy', 'CHFEUR Curncy', 'GBPEUR Curncy', 'JPYEUR Curncy', 'SEKJPY Curncy', 'NOKJPY Curncy', 'HKDJPY Curncy', 'NZDJPY Curncy', 'AUDJPY Curncy', 'CADJPY Curncy', 'CHFJPY Curncy', 'GBPJPY Curncy', 'SEKGBP Curncy', 'NOKGBP Curncy', 'HKDGBP Curncy', 'NZDGBP Curncy', 'AUDGBP Curncy', 'CADGBP Curncy', 'CHFGBP Curncy', 'GBPGBP Curncy', 'SEKCHF Curncy', 'NOKCHF Curncy', 'HKDCHF Curncy', 'NZDCHF Curncy', 'AUDCHF Curncy', 'CADCHF Curncy', 'SEKCAD Curncy', 'NOKCAD Curncy', 'HKDCAD Curncy', 'NZDCAD Curncy', 'AUDCAD Curncy', 'SEKAUD Curncy', 'NOKAUD Curncy', 'HKDAUD Curncy', 'NZDAUD Curncy', 'SEKNZD Curncy', 'NOKNZD Curncy', 'HKDNZD Curncy', 'SEKHKD Curncy', 'NOKHKD Curncy', 'SEKNOK Curncy']\n"
     ]
    }
   ],
   "source": [
    "for k in ['curncy']:  #API_TASKS.keys():\n",
    "    instrument =API_TASKS[k]['instruments']\n",
    "    fields = API_TASKS[k]['fields']\n",
    "    print(k)\n",
    "    kwargs = {\n",
    "        'timeout': 1000,\n",
    "        'allow_missing': True,\n",
    "    #         'date_columns': {\n",
    "    #             'date': fix_iso_dates,\n",
    "    #         },\n",
    "    #         'post_process': normalize_futures_ticker,\n",
    "    }\n",
    "    df[k] = blp.bdh(\n",
    "            instrument,\n",
    "            flds=fields,\n",
    "            start_date=start_date,\n",
    "            end_date=end_date,\n",
    "    #             **kwargs,\n",
    "        )\n",
    "    print(instrument)\n",
    "    all_data=pd.concat([all_data,df[k]],axis=1)\n",
    "    "
   ]
  },
  {
   "cell_type": "code",
   "execution_count": 9,
   "id": "c686d31a",
   "metadata": {},
   "outputs": [
    {
     "data": {
      "text/plain": [
       "{'PX_ASK', 'PX_BID', 'PX_HIGH', 'PX_LAST', 'PX_LOW', 'PX_MID', 'PX_OPEN'}"
      ]
     },
     "execution_count": 9,
     "metadata": {},
     "output_type": "execute_result"
    }
   ],
   "source": [
    "{x[1] for x in df['curncy'].columns}  #loc[:,'ER1 Curncy']['FUT_CUR_GEN_TICKER'].unique()"
   ]
  },
  {
   "cell_type": "code",
   "execution_count": 10,
   "id": "f21c84ab",
   "metadata": {},
   "outputs": [
    {
     "data": {
      "text/plain": [
       "MultiIndex([('SEKUSD Curncy', 'PX_LAST'),\n",
       "            ('SEKUSD Curncy',  'PX_BID'),\n",
       "            ('SEKUSD Curncy',  'PX_ASK'),\n",
       "            ('SEKUSD Curncy',  'PX_MID'),\n",
       "            ('SEKUSD Curncy', 'PX_HIGH'),\n",
       "            ('SEKUSD Curncy',  'PX_LOW'),\n",
       "            ('SEKUSD Curncy', 'PX_OPEN'),\n",
       "            ('NOKUSD Curncy', 'PX_LAST'),\n",
       "            ('NOKUSD Curncy',  'PX_BID'),\n",
       "            ('NOKUSD Curncy',  'PX_ASK'),\n",
       "            ...\n",
       "            ('NOKHKD Curncy', 'PX_HIGH'),\n",
       "            ('NOKHKD Curncy',  'PX_LOW'),\n",
       "            ('NOKHKD Curncy', 'PX_OPEN'),\n",
       "            ('SEKNOK Curncy', 'PX_LAST'),\n",
       "            ('SEKNOK Curncy',  'PX_BID'),\n",
       "            ('SEKNOK Curncy',  'PX_ASK'),\n",
       "            ('SEKNOK Curncy',  'PX_MID'),\n",
       "            ('SEKNOK Curncy', 'PX_HIGH'),\n",
       "            ('SEKNOK Curncy',  'PX_LOW'),\n",
       "            ('SEKNOK Curncy', 'PX_OPEN')],\n",
       "           length=385)"
      ]
     },
     "execution_count": 10,
     "metadata": {},
     "output_type": "execute_result"
    }
   ],
   "source": [
    "# {x[0] for x in df['curncy'].columns}\n",
    "df['curncy'].columns"
   ]
  },
  {
   "cell_type": "code",
   "execution_count": 11,
   "id": "c4428dde",
   "metadata": {},
   "outputs": [
    {
     "data": {
      "text/html": [
       "<div>\n",
       "<style scoped>\n",
       "    .dataframe tbody tr th:only-of-type {\n",
       "        vertical-align: middle;\n",
       "    }\n",
       "\n",
       "    .dataframe tbody tr th {\n",
       "        vertical-align: top;\n",
       "    }\n",
       "\n",
       "    .dataframe thead th {\n",
       "        text-align: right;\n",
       "    }\n",
       "</style>\n",
       "<table border=\"1\" class=\"dataframe\">\n",
       "  <thead>\n",
       "    <tr style=\"text-align: right;\">\n",
       "      <th></th>\n",
       "      <th></th>\n",
       "      <th>2000-01-03</th>\n",
       "      <th>2000-01-04</th>\n",
       "      <th>2000-01-05</th>\n",
       "      <th>2000-01-06</th>\n",
       "      <th>2000-01-07</th>\n",
       "      <th>2000-01-10</th>\n",
       "      <th>2000-01-11</th>\n",
       "      <th>2000-01-12</th>\n",
       "      <th>2000-01-13</th>\n",
       "      <th>2000-01-14</th>\n",
       "      <th>...</th>\n",
       "      <th>2024-01-23</th>\n",
       "      <th>2024-01-24</th>\n",
       "      <th>2024-01-25</th>\n",
       "      <th>2024-01-26</th>\n",
       "      <th>2024-01-29</th>\n",
       "      <th>2024-01-30</th>\n",
       "      <th>2024-01-31</th>\n",
       "      <th>2024-02-01</th>\n",
       "      <th>2024-02-02</th>\n",
       "      <th>2024-02-05</th>\n",
       "    </tr>\n",
       "  </thead>\n",
       "  <tbody>\n",
       "    <tr>\n",
       "      <th rowspan=\"5\" valign=\"top\">SEKUSD Curncy</th>\n",
       "      <th>PX_LAST</th>\n",
       "      <td>0.11938</td>\n",
       "      <td>0.11932</td>\n",
       "      <td>0.11952</td>\n",
       "      <td>0.11945</td>\n",
       "      <td>0.11881</td>\n",
       "      <td>0.11836</td>\n",
       "      <td>0.11909</td>\n",
       "      <td>0.11907</td>\n",
       "      <td>0.11880</td>\n",
       "      <td>0.11800</td>\n",
       "      <td>...</td>\n",
       "      <td>0.095381</td>\n",
       "      <td>0.095814</td>\n",
       "      <td>0.095745</td>\n",
       "      <td>0.095720</td>\n",
       "      <td>0.095737</td>\n",
       "      <td>0.096050</td>\n",
       "      <td>0.096234</td>\n",
       "      <td>0.096304</td>\n",
       "      <td>0.095225</td>\n",
       "      <td>0.094270</td>\n",
       "    </tr>\n",
       "    <tr>\n",
       "      <th>PX_BID</th>\n",
       "      <td>NaN</td>\n",
       "      <td>NaN</td>\n",
       "      <td>NaN</td>\n",
       "      <td>NaN</td>\n",
       "      <td>NaN</td>\n",
       "      <td>NaN</td>\n",
       "      <td>NaN</td>\n",
       "      <td>NaN</td>\n",
       "      <td>NaN</td>\n",
       "      <td>NaN</td>\n",
       "      <td>...</td>\n",
       "      <td>0.095281</td>\n",
       "      <td>0.095723</td>\n",
       "      <td>0.095669</td>\n",
       "      <td>0.095210</td>\n",
       "      <td>0.095623</td>\n",
       "      <td>0.095956</td>\n",
       "      <td>0.096156</td>\n",
       "      <td>0.096235</td>\n",
       "      <td>0.094815</td>\n",
       "      <td>0.094254</td>\n",
       "    </tr>\n",
       "    <tr>\n",
       "      <th>PX_ASK</th>\n",
       "      <td>NaN</td>\n",
       "      <td>NaN</td>\n",
       "      <td>NaN</td>\n",
       "      <td>NaN</td>\n",
       "      <td>NaN</td>\n",
       "      <td>NaN</td>\n",
       "      <td>NaN</td>\n",
       "      <td>NaN</td>\n",
       "      <td>NaN</td>\n",
       "      <td>NaN</td>\n",
       "      <td>...</td>\n",
       "      <td>0.095481</td>\n",
       "      <td>0.095906</td>\n",
       "      <td>0.095820</td>\n",
       "      <td>0.096231</td>\n",
       "      <td>0.095852</td>\n",
       "      <td>0.096143</td>\n",
       "      <td>0.096313</td>\n",
       "      <td>0.096372</td>\n",
       "      <td>0.095635</td>\n",
       "      <td>0.094286</td>\n",
       "    </tr>\n",
       "    <tr>\n",
       "      <th>PX_MID</th>\n",
       "      <td>0.11938</td>\n",
       "      <td>0.11932</td>\n",
       "      <td>0.11952</td>\n",
       "      <td>0.11945</td>\n",
       "      <td>0.11881</td>\n",
       "      <td>0.11836</td>\n",
       "      <td>0.11909</td>\n",
       "      <td>0.11907</td>\n",
       "      <td>0.11880</td>\n",
       "      <td>0.11800</td>\n",
       "      <td>...</td>\n",
       "      <td>0.095381</td>\n",
       "      <td>0.095814</td>\n",
       "      <td>0.095745</td>\n",
       "      <td>0.095720</td>\n",
       "      <td>0.095737</td>\n",
       "      <td>0.096050</td>\n",
       "      <td>0.096234</td>\n",
       "      <td>0.096304</td>\n",
       "      <td>0.095225</td>\n",
       "      <td>0.094270</td>\n",
       "    </tr>\n",
       "    <tr>\n",
       "      <th>PX_HIGH</th>\n",
       "      <td>0.11970</td>\n",
       "      <td>0.11994</td>\n",
       "      <td>0.12020</td>\n",
       "      <td>0.12046</td>\n",
       "      <td>0.11990</td>\n",
       "      <td>0.11966</td>\n",
       "      <td>0.11928</td>\n",
       "      <td>0.11917</td>\n",
       "      <td>0.11963</td>\n",
       "      <td>0.11907</td>\n",
       "      <td>...</td>\n",
       "      <td>0.096060</td>\n",
       "      <td>0.096455</td>\n",
       "      <td>0.096149</td>\n",
       "      <td>0.096261</td>\n",
       "      <td>0.095835</td>\n",
       "      <td>0.096223</td>\n",
       "      <td>0.096947</td>\n",
       "      <td>0.096337</td>\n",
       "      <td>0.096680</td>\n",
       "      <td>0.095354</td>\n",
       "    </tr>\n",
       "    <tr>\n",
       "      <th>...</th>\n",
       "      <th>...</th>\n",
       "      <td>...</td>\n",
       "      <td>...</td>\n",
       "      <td>...</td>\n",
       "      <td>...</td>\n",
       "      <td>...</td>\n",
       "      <td>...</td>\n",
       "      <td>...</td>\n",
       "      <td>...</td>\n",
       "      <td>...</td>\n",
       "      <td>...</td>\n",
       "      <td>...</td>\n",
       "      <td>...</td>\n",
       "      <td>...</td>\n",
       "      <td>...</td>\n",
       "      <td>...</td>\n",
       "      <td>...</td>\n",
       "      <td>...</td>\n",
       "      <td>...</td>\n",
       "      <td>...</td>\n",
       "      <td>...</td>\n",
       "      <td>...</td>\n",
       "    </tr>\n",
       "    <tr>\n",
       "      <th rowspan=\"5\" valign=\"top\">SEKNOK Curncy</th>\n",
       "      <th>PX_ASK</th>\n",
       "      <td>0.94440</td>\n",
       "      <td>0.94890</td>\n",
       "      <td>0.95100</td>\n",
       "      <td>0.94990</td>\n",
       "      <td>0.94760</td>\n",
       "      <td>0.94860</td>\n",
       "      <td>0.94890</td>\n",
       "      <td>0.94920</td>\n",
       "      <td>0.94370</td>\n",
       "      <td>0.94450</td>\n",
       "      <td>...</td>\n",
       "      <td>1.002500</td>\n",
       "      <td>1.003900</td>\n",
       "      <td>1.000300</td>\n",
       "      <td>1.000700</td>\n",
       "      <td>0.999500</td>\n",
       "      <td>1.004100</td>\n",
       "      <td>1.011400</td>\n",
       "      <td>1.005700</td>\n",
       "      <td>1.014500</td>\n",
       "      <td>1.007800</td>\n",
       "    </tr>\n",
       "    <tr>\n",
       "      <th>PX_MID</th>\n",
       "      <td>0.94360</td>\n",
       "      <td>0.94810</td>\n",
       "      <td>0.95025</td>\n",
       "      <td>0.94925</td>\n",
       "      <td>0.94705</td>\n",
       "      <td>0.94795</td>\n",
       "      <td>0.94825</td>\n",
       "      <td>0.94815</td>\n",
       "      <td>0.94315</td>\n",
       "      <td>0.94375</td>\n",
       "      <td>...</td>\n",
       "      <td>1.001800</td>\n",
       "      <td>1.002830</td>\n",
       "      <td>0.999710</td>\n",
       "      <td>0.997800</td>\n",
       "      <td>0.998460</td>\n",
       "      <td>1.003190</td>\n",
       "      <td>1.010520</td>\n",
       "      <td>1.004770</td>\n",
       "      <td>1.009690</td>\n",
       "      <td>1.007620</td>\n",
       "    </tr>\n",
       "    <tr>\n",
       "      <th>PX_HIGH</th>\n",
       "      <td>0.94580</td>\n",
       "      <td>0.95540</td>\n",
       "      <td>0.95180</td>\n",
       "      <td>0.94980</td>\n",
       "      <td>0.95050</td>\n",
       "      <td>0.94880</td>\n",
       "      <td>0.95230</td>\n",
       "      <td>0.95120</td>\n",
       "      <td>0.94770</td>\n",
       "      <td>0.94490</td>\n",
       "      <td>...</td>\n",
       "      <td>1.007600</td>\n",
       "      <td>1.006500</td>\n",
       "      <td>1.005600</td>\n",
       "      <td>1.002500</td>\n",
       "      <td>0.999900</td>\n",
       "      <td>1.004500</td>\n",
       "      <td>1.012500</td>\n",
       "      <td>1.013000</td>\n",
       "      <td>1.013900</td>\n",
       "      <td>1.016500</td>\n",
       "    </tr>\n",
       "    <tr>\n",
       "      <th>PX_LOW</th>\n",
       "      <td>0.94160</td>\n",
       "      <td>0.94250</td>\n",
       "      <td>0.94830</td>\n",
       "      <td>0.94720</td>\n",
       "      <td>0.94640</td>\n",
       "      <td>0.94560</td>\n",
       "      <td>0.94670</td>\n",
       "      <td>0.94670</td>\n",
       "      <td>0.94320</td>\n",
       "      <td>0.94240</td>\n",
       "      <td>...</td>\n",
       "      <td>1.001400</td>\n",
       "      <td>0.999900</td>\n",
       "      <td>0.998900</td>\n",
       "      <td>0.995800</td>\n",
       "      <td>0.993400</td>\n",
       "      <td>0.997000</td>\n",
       "      <td>1.001700</td>\n",
       "      <td>1.002000</td>\n",
       "      <td>1.001800</td>\n",
       "      <td>1.005900</td>\n",
       "    </tr>\n",
       "    <tr>\n",
       "      <th>PX_OPEN</th>\n",
       "      <td>0.94340</td>\n",
       "      <td>0.95440</td>\n",
       "      <td>0.94830</td>\n",
       "      <td>0.94810</td>\n",
       "      <td>0.94930</td>\n",
       "      <td>0.94740</td>\n",
       "      <td>0.95210</td>\n",
       "      <td>0.94820</td>\n",
       "      <td>0.94730</td>\n",
       "      <td>0.94380</td>\n",
       "      <td>...</td>\n",
       "      <td>1.005200</td>\n",
       "      <td>1.001800</td>\n",
       "      <td>1.002800</td>\n",
       "      <td>0.999700</td>\n",
       "      <td>0.996700</td>\n",
       "      <td>0.998500</td>\n",
       "      <td>1.003200</td>\n",
       "      <td>1.010500</td>\n",
       "      <td>1.004800</td>\n",
       "      <td>1.011500</td>\n",
       "    </tr>\n",
       "  </tbody>\n",
       "</table>\n",
       "<p>385 rows × 6286 columns</p>\n",
       "</div>"
      ],
      "text/plain": [
       "                       2000-01-03  2000-01-04  2000-01-05  2000-01-06  \\\n",
       "SEKUSD Curncy PX_LAST     0.11938     0.11932     0.11952     0.11945   \n",
       "              PX_BID          NaN         NaN         NaN         NaN   \n",
       "              PX_ASK          NaN         NaN         NaN         NaN   \n",
       "              PX_MID      0.11938     0.11932     0.11952     0.11945   \n",
       "              PX_HIGH     0.11970     0.11994     0.12020     0.12046   \n",
       "...                           ...         ...         ...         ...   \n",
       "SEKNOK Curncy PX_ASK      0.94440     0.94890     0.95100     0.94990   \n",
       "              PX_MID      0.94360     0.94810     0.95025     0.94925   \n",
       "              PX_HIGH     0.94580     0.95540     0.95180     0.94980   \n",
       "              PX_LOW      0.94160     0.94250     0.94830     0.94720   \n",
       "              PX_OPEN     0.94340     0.95440     0.94830     0.94810   \n",
       "\n",
       "                       2000-01-07  2000-01-10  2000-01-11  2000-01-12  \\\n",
       "SEKUSD Curncy PX_LAST     0.11881     0.11836     0.11909     0.11907   \n",
       "              PX_BID          NaN         NaN         NaN         NaN   \n",
       "              PX_ASK          NaN         NaN         NaN         NaN   \n",
       "              PX_MID      0.11881     0.11836     0.11909     0.11907   \n",
       "              PX_HIGH     0.11990     0.11966     0.11928     0.11917   \n",
       "...                           ...         ...         ...         ...   \n",
       "SEKNOK Curncy PX_ASK      0.94760     0.94860     0.94890     0.94920   \n",
       "              PX_MID      0.94705     0.94795     0.94825     0.94815   \n",
       "              PX_HIGH     0.95050     0.94880     0.95230     0.95120   \n",
       "              PX_LOW      0.94640     0.94560     0.94670     0.94670   \n",
       "              PX_OPEN     0.94930     0.94740     0.95210     0.94820   \n",
       "\n",
       "                       2000-01-13  2000-01-14  ...  2024-01-23  2024-01-24  \\\n",
       "SEKUSD Curncy PX_LAST     0.11880     0.11800  ...    0.095381    0.095814   \n",
       "              PX_BID          NaN         NaN  ...    0.095281    0.095723   \n",
       "              PX_ASK          NaN         NaN  ...    0.095481    0.095906   \n",
       "              PX_MID      0.11880     0.11800  ...    0.095381    0.095814   \n",
       "              PX_HIGH     0.11963     0.11907  ...    0.096060    0.096455   \n",
       "...                           ...         ...  ...         ...         ...   \n",
       "SEKNOK Curncy PX_ASK      0.94370     0.94450  ...    1.002500    1.003900   \n",
       "              PX_MID      0.94315     0.94375  ...    1.001800    1.002830   \n",
       "              PX_HIGH     0.94770     0.94490  ...    1.007600    1.006500   \n",
       "              PX_LOW      0.94320     0.94240  ...    1.001400    0.999900   \n",
       "              PX_OPEN     0.94730     0.94380  ...    1.005200    1.001800   \n",
       "\n",
       "                       2024-01-25  2024-01-26  2024-01-29  2024-01-30  \\\n",
       "SEKUSD Curncy PX_LAST    0.095745    0.095720    0.095737    0.096050   \n",
       "              PX_BID     0.095669    0.095210    0.095623    0.095956   \n",
       "              PX_ASK     0.095820    0.096231    0.095852    0.096143   \n",
       "              PX_MID     0.095745    0.095720    0.095737    0.096050   \n",
       "              PX_HIGH    0.096149    0.096261    0.095835    0.096223   \n",
       "...                           ...         ...         ...         ...   \n",
       "SEKNOK Curncy PX_ASK     1.000300    1.000700    0.999500    1.004100   \n",
       "              PX_MID     0.999710    0.997800    0.998460    1.003190   \n",
       "              PX_HIGH    1.005600    1.002500    0.999900    1.004500   \n",
       "              PX_LOW     0.998900    0.995800    0.993400    0.997000   \n",
       "              PX_OPEN    1.002800    0.999700    0.996700    0.998500   \n",
       "\n",
       "                       2024-01-31  2024-02-01  2024-02-02  2024-02-05  \n",
       "SEKUSD Curncy PX_LAST    0.096234    0.096304    0.095225    0.094270  \n",
       "              PX_BID     0.096156    0.096235    0.094815    0.094254  \n",
       "              PX_ASK     0.096313    0.096372    0.095635    0.094286  \n",
       "              PX_MID     0.096234    0.096304    0.095225    0.094270  \n",
       "              PX_HIGH    0.096947    0.096337    0.096680    0.095354  \n",
       "...                           ...         ...         ...         ...  \n",
       "SEKNOK Curncy PX_ASK     1.011400    1.005700    1.014500    1.007800  \n",
       "              PX_MID     1.010520    1.004770    1.009690    1.007620  \n",
       "              PX_HIGH    1.012500    1.013000    1.013900    1.016500  \n",
       "              PX_LOW     1.001700    1.002000    1.001800    1.005900  \n",
       "              PX_OPEN    1.003200    1.010500    1.004800    1.011500  \n",
       "\n",
       "[385 rows x 6286 columns]"
      ]
     },
     "execution_count": 11,
     "metadata": {},
     "output_type": "execute_result"
    }
   ],
   "source": [
    "df['curncy'].T"
   ]
  },
  {
   "cell_type": "code",
   "execution_count": 11,
   "id": "2653741f",
   "metadata": {},
   "outputs": [
    {
     "data": {
      "text/plain": [
       "'a.csv'"
      ]
     },
     "execution_count": 11,
     "metadata": {},
     "output_type": "execute_result"
    }
   ],
   "source": [
    "'a'+'.csv'"
   ]
  },
  {
   "cell_type": "code",
   "execution_count": 12,
   "id": "d29e07ec",
   "metadata": {},
   "outputs": [],
   "source": [
    "all_data.to_csv('all_data_curncy_spot.csv')\n",
    "all_data.to_parquet('all_data_curncy_spot.pqt')"
   ]
  },
  {
   "cell_type": "code",
   "execution_count": 13,
   "id": "8efbb9f1",
   "metadata": {},
   "outputs": [
    {
     "data": {
      "text/plain": [
       "'H:\\\\PycharmProjects\\\\fut_data_download'"
      ]
     },
     "execution_count": 13,
     "metadata": {},
     "output_type": "execute_result"
    }
   ],
   "source": [
    "pwd"
   ]
  },
  {
   "cell_type": "code",
   "execution_count": 14,
   "id": "771f56dc",
   "metadata": {},
   "outputs": [
    {
     "data": {
      "text/plain": [
       "(6286, 385)"
      ]
     },
     "execution_count": 14,
     "metadata": {},
     "output_type": "execute_result"
    }
   ],
   "source": [
    "all_data.shape"
   ]
  },
  {
   "cell_type": "code",
   "execution_count": null,
   "id": "7091e1e7",
   "metadata": {},
   "outputs": [],
   "source": []
  }
 ],
 "metadata": {
  "kernelspec": {
   "display_name": "Python 3 (ipykernel)",
   "language": "python",
   "name": "python3"
  },
  "language_info": {
   "codemirror_mode": {
    "name": "ipython",
    "version": 3
   },
   "file_extension": ".py",
   "mimetype": "text/x-python",
   "name": "python",
   "nbconvert_exporter": "python",
   "pygments_lexer": "ipython3",
   "version": "3.11.5"
  }
 },
 "nbformat": 4,
 "nbformat_minor": 5
}
