# Import the loader and other required libraries
from databento_loader import load_and_prepare_data
import pandas as pd
import numpy as np
import matplotlib.pyplot as plt
%matplotlib inline

# Set the path to your data directory
BASE_PATH = 'path/to/your/data/directory'

# Load and prepare the data
df, loader = load_and_prepare_data(BASE_PATH)

# Display the first few rows of the data
df.head()

# Basic information about the dataset
print("Dataset Info:")
print(f"Date Range: {df.index.min()} to {df.index.max()}")
print(f"Number of symbols: {len(df.columns.levels[1])}")
print("\nAvailable symbols:")
print(df.columns.levels[1].tolist())

