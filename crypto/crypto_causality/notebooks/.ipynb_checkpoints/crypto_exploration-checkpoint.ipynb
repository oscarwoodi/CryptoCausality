{
 "cells": [
  {
   "cell_type": "markdown",
   "id": "ccb1db9d",
   "metadata": {},
   "source": [
    "notebooks/crypto_exploration.ipynb"
   ]
  },
  {
   "cell_type": "code",
   "execution_count": null,
   "id": "b5d92928",
   "metadata": {},
   "outputs": [],
   "source": [
    "import pandas as pd\n",
    "import numpy as np\n",
    "import pyarrow.parquet as pq\n",
    "import matplotlib.pyplot as plt\n",
    "import seaborn as sns\n",
    "from statsmodels.tsa.stattools import acf, pacf\n",
    "import glob\n",
    "import os\n",
    "from datetime import datetime"
   ]
  },
  {
   "cell_type": "code",
   "execution_count": null,
   "id": "a6b14a6c",
   "metadata": {
    "lines_to_next_cell": 1
   },
   "outputs": [],
   "source": [
    "# Set style for better visualizations\n",
    "plt.style.use('seaborn')\n",
    "sns.set_palette(\"husl\")"
   ]
  },
  {
   "cell_type": "code",
   "execution_count": null,
   "id": "b24b1298",
   "metadata": {
    "lines_to_next_cell": 1
   },
   "outputs": [],
   "source": [
    "# Read all parquet files\n",
    "def load_all_crypto_data(data_dir=\"../data/processed\"):\n",
    "    all_data = {}\n",
    "    for file in glob.glob(os.path.join(data_dir, \"*.parquet\")):\n",
    "        symbol = os.path.basename(file).split('_')[0]\n",
    "        df = pq.read_table(file).to_pandas()\n",
    "        all_data[symbol] = df\n",
    "    return all_data"
   ]
  },
  {
   "cell_type": "code",
   "execution_count": null,
   "id": "1cd568ee",
   "metadata": {},
   "outputs": [],
   "source": [
    "# Load the data\n",
    "crypto_data = load_all_crypto_data()"
   ]
  },
  {
   "cell_type": "code",
   "execution_count": null,
   "id": "71970550",
   "metadata": {},
   "outputs": [],
   "source": [
    "# 1. Price Series Visualization\n",
    "plt.figure(figsize=(15, 10))\n",
    "for symbol, df in crypto_data.items():\n",
    "    plt.plot(df['timestamp'], df['close'].astype(float), label=symbol)\n",
    "plt.title('Crypto Price Series')\n",
    "plt.xlabel('Time')\n",
    "plt.ylabel('Price (USDT)')\n",
    "plt.legend()\n",
    "plt.xticks(rotation=45)\n",
    "plt.tight_layout()\n",
    "plt.show()"
   ]
  },
  {
   "cell_type": "code",
   "execution_count": null,
   "id": "880e8ed3",
   "metadata": {},
   "outputs": [],
   "source": [
    "# 2. Returns Calculation and Correlation Analysis\n",
    "# Calculate returns for each crypto\n",
    "returns_data = {}\n",
    "for symbol, df in crypto_data.items():\n",
    "    returns = pd.DataFrame()\n",
    "    returns['timestamp'] = df['timestamp']\n",
    "    returns['returns'] = np.log(df['close'].astype(float)).diff()\n",
    "    returns_data[symbol] = returns"
   ]
  },
  {
   "cell_type": "code",
   "execution_count": null,
   "id": "4f66dda0",
   "metadata": {},
   "outputs": [],
   "source": [
    "# Create a combined returns dataframe\n",
    "combined_returns = pd.DataFrame()\n",
    "for symbol, returns in returns_data.items():\n",
    "    combined_returns[symbol] = returns['returns']\n",
    "combined_returns.index = list(returns_data.values())[0]['timestamp']"
   ]
  },
  {
   "cell_type": "code",
   "execution_count": null,
   "id": "51276c2f",
   "metadata": {
    "lines_to_next_cell": 1
   },
   "outputs": [],
   "source": [
    "# Plot correlation heatmap\n",
    "plt.figure(figsize=(12, 8))\n",
    "sns.heatmap(combined_returns.corr(), \n",
    "            annot=True, \n",
    "            cmap='RdYlBu', \n",
    "            center=0,\n",
    "            fmt='.2f')\n",
    "plt.title('Correlation Heatmap of Crypto Returns')\n",
    "plt.tight_layout()\n",
    "plt.show()"
   ]
  },
  {
   "cell_type": "code",
   "execution_count": null,
   "id": "4bfbd3a6",
   "metadata": {
    "lines_to_next_cell": 1
   },
   "outputs": [],
   "source": [
    "# 3. ACF and PACF Analysis\n",
    "def plot_acf_pacf(series, symbol, lags=50):\n",
    "    fig, (ax1, ax2) = plt.subplots(2, 1, figsize=(15, 10))\n",
    "    \n",
    "    # ACF\n",
    "    acf_values = acf(series.dropna(), nlags=lags)\n",
    "    ax1.stem(range(len(acf_values)), acf_values)\n",
    "    ax1.axhline(y=0, linestyle='-', color='black')\n",
    "    ax1.axhline(y=-1.96/np.sqrt(len(series)), linestyle='--', color='gray')\n",
    "    ax1.axhline(y=1.96/np.sqrt(len(series)), linestyle='--', color='gray')\n",
    "    ax1.set_title(f'Autocorrelation Function for {symbol}')\n",
    "    \n",
    "    # PACF\n",
    "    pacf_values = pacf(series.dropna(), nlags=lags)\n",
    "    ax2.stem(range(len(pacf_values)), pacf_values)\n",
    "    ax2.axhline(y=0, linestyle='-', color='black')\n",
    "    ax2.axhline(y=-1.96/np.sqrt(len(series)), linestyle='--', color='gray')\n",
    "    ax2.axhline(y=1.96/np.sqrt(len(series)), linestyle='--', color='gray')\n",
    "    ax2.set_title(f'Partial Autocorrelation Function for {symbol}')\n",
    "    \n",
    "    plt.tight_layout()\n",
    "    plt.show()"
   ]
  },
  {
   "cell_type": "code",
   "execution_count": null,
   "id": "66d1f12c",
   "metadata": {},
   "outputs": [],
   "source": [
    "# Plot ACF and PACF for each crypto\n",
    "for symbol in returns_data.keys():\n",
    "    print(f\"\\nAnalyzing {symbol}\")\n",
    "    plot_acf_pacf(returns_data[symbol]['returns'], symbol)"
   ]
  },
  {
   "cell_type": "code",
   "execution_count": null,
   "id": "59a55b82",
   "metadata": {},
   "outputs": [],
   "source": [
    "# 4. Summary Statistics\n",
    "summary_stats = pd.DataFrame()\n",
    "for symbol, returns in returns_data.items():\n",
    "    stats = returns['returns'].describe()\n",
    "    stats['skewness'] = returns['returns'].skew()\n",
    "    stats['kurtosis'] = returns['returns'].kurtosis()\n",
    "    summary_stats[symbol] = stats"
   ]
  },
  {
   "cell_type": "code",
   "execution_count": null,
   "id": "4a05016a",
   "metadata": {},
   "outputs": [],
   "source": [
    "print(\"\\nSummary Statistics for Returns:\")\n",
    "print(summary_stats)"
   ]
  },
  {
   "cell_type": "code",
   "execution_count": null,
   "id": "89106a9a",
   "metadata": {},
   "outputs": [],
   "source": [
    "# 5. Volatility Analysis\n",
    "# Calculate rolling volatility (30-minute window)\n",
    "plt.figure(figsize=(15, 10))\n",
    "for symbol, returns in returns_data.items():\n",
    "    vol = returns['returns'].rolling(window=30).std() * np.sqrt(30)\n",
    "    plt.plot(returns['timestamp'], vol, label=symbol)"
   ]
  },
  {
   "cell_type": "code",
   "execution_count": null,
   "id": "48291d84",
   "metadata": {},
   "outputs": [],
   "source": [
    "plt.title('30-Minute Rolling Volatility')\n",
    "plt.xlabel('Time')\n",
    "plt.ylabel('Annualized Volatility')\n",
    "plt.legend()\n",
    "plt.xticks(rotation=45)\n",
    "plt.tight_layout()\n",
    "plt.show()"
   ]
  }
 ],
 "metadata": {
  "jupytext": {
   "cell_metadata_filter": "-all",
   "main_language": "python",
   "notebook_metadata_filter": "-all"
  }
 },
 "nbformat": 4,
 "nbformat_minor": 5
}
