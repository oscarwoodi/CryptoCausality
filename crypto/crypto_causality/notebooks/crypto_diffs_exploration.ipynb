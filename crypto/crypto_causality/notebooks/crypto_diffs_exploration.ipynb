{
 "cells": [
  {
   "cell_type": "markdown",
   "id": "204c0fc0",
   "metadata": {
    "lines_to_next_cell": 0
   },
   "source": [
    "# First Exploratory Data Analysis of Crypto Data\n",
    "\n",
    "## Plotting\n",
    "* Plot data  in diffs\n",
    "* Plot Correlations in diffs\n",
    "* ACFs and CCFss in diffs\n",
    "* Summary Statistics\n",
    "\n",
    "## Goal: All things needed for a pre-causal analysis\n",
    "\n",
    "import glob\n",
    "import itertools\n",
    "import os\n",
    "\n",
    "import matplotlib.pyplot as plt\n",
    "import numpy as np"
   ]
  },
  {
   "cell_type": "code",
   "execution_count": null,
   "id": "7261b979",
   "metadata": {},
   "outputs": [],
   "source": [
    "import pandas as pd\n",
    "import pyarrow.parquet as pq\n",
    "import seaborn as sns\n",
    "from statsmodels.tsa.stattools import acf, ccf, pacf\n",
    "\n",
    "# Set style for better visualizations\n",
    "sns.set_theme()\n",
    "sns.set_palette(\"husl\")\n",
    "plt.rcParams[\"figure.figsize\"] = [12, 6]"
   ]
  },
  {
   "cell_type": "code",
   "execution_count": null,
   "id": "9c31a6c4",
   "metadata": {},
   "outputs": [],
   "source": [
    "\n",
    "\n",
    "def load_and_prepare_data(data_dir=\"../data/processed/\"):\n",
    "    # Load raw data\n",
    "    all_data = {}\n",
    "    returns_data = {}\n",
    "\n",
    "    for file in glob.glob(os.path.join(data_dir, \"*.parquet\")):\n",
    "        symbol = os.path.basename(file).split(\"_\")[0]\n",
    "        df = pq.read_table(file).to_pandas()\n",
    "\n",
    "        # Calculate log returns\n",
    "        df[\"log_returns\"] = np.log(df[\"close\"]).diff()\n",
    "\n",
    "        # Calculate simple returns\n",
    "        df[\"simple_returns\"] = df[\"close\"].pct_change()\n",
    "\n",
    "        # Calculate absolute difference\n",
    "        df[\"price_diff\"] = df[\"close\"].diff()\n",
    "\n",
    "        all_data[symbol] = df\n",
    "        returns_data[symbol] = df[\n",
    "            [\"timestamp\", \"log_returns\", \"simple_returns\", \"price_diff\"]\n",
    "        ].copy()\n",
    "\n",
    "    return all_data, returns_data"
   ]
  },
  {
   "cell_type": "code",
   "execution_count": null,
   "id": "8f9c2a59",
   "metadata": {
    "lines_to_next_cell": 2
   },
   "outputs": [],
   "source": [
    "def plot_acf_analysis(returns_data, diff_type=\"log_returns\", max_lags=50):\n",
    "    \"\"\"\n",
    "    Plot ACF for each cryptocurrency's returns/differences\n",
    "    diff_type: 'log_returns', 'simple_returns', or 'price_diff'\n",
    "    \"\"\"\n",
    "    for symbol, df in returns_data.items():\n",
    "        fig, (ax1, ax2) = plt.subplots(2, 1, figsize=(15, 10))\n",
    "        fig.suptitle(f\"ACF Analysis of {diff_type} for {symbol}\")\n",
    "\n",
    "        series = df[diff_type].dropna()\n",
    "\n",
    "        # ACF\n",
    "        acf_values = acf(series, nlags=max_lags)\n",
    "        ax1.stem(range(len(acf_values)), acf_values)\n",
    "        ax1.axhline(y=0, linestyle=\"-\", color=\"black\")\n",
    "        ax1.axhline(y=1.96 / np.sqrt(len(series)), linestyle=\"--\", color=\"gray\")\n",
    "        ax1.axhline(y=-1.96 / np.sqrt(len(series)), linestyle=\"--\", color=\"gray\")\n",
    "        ax1.set_title(f\"Autocorrelation Function\")\n",
    "\n",
    "        # PACF\n",
    "        pacf_values = pacf(series, nlags=max_lags)\n",
    "        ax2.stem(range(len(pacf_values)), pacf_values)\n",
    "        ax2.axhline(y=0, linestyle=\"-\", color=\"black\")\n",
    "        ax2.axhline(y=1.96 / np.sqrt(len(series)), linestyle=\"--\", color=\"gray\")\n",
    "        ax2.axhline(y=-1.96 / np.sqrt(len(series)), linestyle=\"--\", color=\"gray\")\n",
    "        ax2.set_title(f\"Partial Autocorrelation Function\")\n",
    "\n",
    "        plt.tight_layout()\n",
    "        plt.show()"
   ]
  },
  {
   "cell_type": "markdown",
   "id": "5d7243a8",
   "metadata": {
    "lines_to_next_cell": 2
   },
   "source": [
    "## Cross-Correlation Analysis of Differences"
   ]
  },
  {
   "cell_type": "code",
   "execution_count": null,
   "id": "9faf31e5",
   "metadata": {},
   "outputs": [],
   "source": [
    "def plot_ccf_analysis(returns_data, diff_type=\"log_returns\", max_lags=50):\n",
    "    \"\"\"\n",
    "    Plot CCF between pairs of cryptocurrencies\n",
    "    diff_type: 'log_returns', 'simple_returns', or 'price_diff'\n",
    "    \"\"\"\n",
    "    # Get all pairs of cryptocurrencies\n",
    "    pairs = list(itertools.combinations(returns_data.keys(), 2))\n",
    "\n",
    "    for symbol1, symbol2 in pairs:\n",
    "        # Get the return series\n",
    "        series1 = returns_data[symbol1][diff_type].dropna()\n",
    "        series2 = returns_data[symbol2][diff_type].dropna()\n",
    "\n",
    "        # Calculate CCF\n",
    "        ccf_values = ccf(series1, series2, adjusted=False)\n",
    "\n",
    "        # Plot\n",
    "        plt.figure(figsize=(15, 5))\n",
    "        plt.stem(\n",
    "            range(-max_lags, max_lags + 1),\n",
    "            ccf_values[max_lags - max_lags : max_lags + max_lags + 1],\n",
    "        )\n",
    "        plt.axhline(y=0, linestyle=\"-\", color=\"black\")\n",
    "        plt.axhline(y=1.96 / np.sqrt(len(series1)), linestyle=\"--\", color=\"gray\")\n",
    "        plt.axhline(y=-1.96 / np.sqrt(len(series1)), linestyle=\"--\", color=\"gray\")\n",
    "\n",
    "        plt.title(f\"Cross-Correlation of {diff_type}: {symbol1} vs {symbol2}\")\n",
    "        plt.xlabel(\"Lag\")\n",
    "        plt.ylabel(\"CCF\")\n",
    "\n",
    "        # Find significant lags\n",
    "        threshold = 1.96 / np.sqrt(len(series1))\n",
    "        sig_lags = np.where(np.abs(ccf_values) > threshold)[0] - max_lags\n",
    "        if len(sig_lags) > 0:\n",
    "            print(f\"\\nSignificant lags between {symbol1} and {symbol2}:\")\n",
    "            for lag in sig_lags:\n",
    "                corr = ccf_values[lag + max_lags]\n",
    "                if lag < 0:\n",
    "                    print(\n",
    "                        f\"{symbol2} leads {symbol1} by {abs(lag)} periods \"\n",
    "                        f\"(correlation: {corr:.3f})\"\n",
    "                    )\n",
    "                elif lag > 0:\n",
    "                    print(\n",
    "                        f\"{symbol1} leads {symbol2} by {lag} periods \"\n",
    "                        f\"(correlation: {corr:.3f})\"\n",
    "                    )\n",
    "\n",
    "        plt.tight_layout()\n",
    "        plt.show()"
   ]
  },
  {
   "cell_type": "markdown",
   "id": "c3b24a71",
   "metadata": {},
   "source": [
    "## Run Analysis"
   ]
  },
  {
   "cell_type": "code",
   "execution_count": null,
   "id": "b10eb6f8",
   "metadata": {},
   "outputs": [],
   "source": [
    "# Load data\n",
    "all_data, returns_data = load_and_prepare_data()\n",
    "\n",
    "# Plot ACF analysis for log returns\n",
    "print(\"ACF Analysis of Log Returns\")\n",
    "plot_acf_analysis(returns_data, diff_type=\"log_returns\")\n",
    "\n",
    "# Plot CCF analysis for log returns\n",
    "print(\"\\nCCF Analysis of Log Returns\")\n",
    "plot_ccf_analysis(returns_data, diff_type=\"log_returns\")"
   ]
  },
  {
   "cell_type": "markdown",
   "id": "99195c8f",
   "metadata": {
    "lines_to_next_cell": 2
   },
   "source": [
    "## Additional Analysis: Returns Distribution"
   ]
  },
  {
   "cell_type": "code",
   "execution_count": null,
   "id": "893508a7",
   "metadata": {},
   "outputs": [],
   "source": [
    "def plot_returns_distribution(returns_data, diff_type=\"log_returns\"):\n",
    "    plt.figure(figsize=(15, 5))\n",
    "\n",
    "    for symbol, df in returns_data.items():\n",
    "        sns.kdeplot(data=df[diff_type].dropna(), label=symbol)\n",
    "\n",
    "    plt.title(f\"Distribution of {diff_type}\")\n",
    "    plt.xlabel(\"Return\")\n",
    "    plt.ylabel(\"Density\")\n",
    "    plt.legend()\n",
    "    plt.show()\n",
    "\n",
    "\n",
    "plot_returns_distribution(returns_data, \"log_returns\")"
   ]
  }
 ],
 "metadata": {
  "jupytext": {
   "cell_metadata_filter": "-all",
   "main_language": "python",
   "notebook_metadata_filter": "-all"
  }
 },
 "nbformat": 4,
 "nbformat_minor": 5
}
