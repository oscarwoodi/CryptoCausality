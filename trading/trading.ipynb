{
 "cells": [
  {
   "cell_type": "code",
   "execution_count": 2,
   "metadata": {},
   "outputs": [],
   "source": [
    "import numpy as np\n",
    "import pandas as pd\n",
    "import pickle\n",
    "import os\n"
   ]
  },
  {
   "cell_type": "code",
   "execution_count": 10,
   "metadata": {},
   "outputs": [],
   "source": [
    "\n",
    "file_path = '1m_final_results.pkl'\n",
    "\n",
    "def load_checkpoint(filename=\"data/checkpoints/checkpoint.pkl\"):\n",
    "    if os.path.exists(filename):\n",
    "        with open(filename, \"rb\") as f:\n",
    "            return pickle.load(f)\n",
    "    return None\n",
    "\n",
    "data = load_checkpoint(file_path)\n",
    "tickers = ['ADAUSDT','BNBUSDT','BTCUSDT','DOGEUSDT','ETHUSDT','XRPUSDT']"
   ]
  },
  {
   "cell_type": "code",
   "execution_count": 8,
   "metadata": {},
   "outputs": [
    {
     "data": {
      "text/plain": [
       "{'stats':                        f_stat   p_value significant\n",
       " timestamp                                          \n",
       " 2024-12-17 07:21:00       NaN       NaN         NaN\n",
       " 2024-12-17 07:22:00       NaN       NaN         NaN\n",
       " 2024-12-17 07:23:00       NaN       NaN         NaN\n",
       " 2024-12-17 07:24:00       NaN       NaN         NaN\n",
       " 2024-12-17 07:25:00       NaN       NaN         NaN\n",
       " ...                       ...       ...         ...\n",
       " 2024-12-17 23:56:00  0.867231  0.502327       False\n",
       " 2024-12-17 23:57:00  0.867231  0.502327       False\n",
       " 2024-12-17 23:58:00  0.867231  0.502327       False\n",
       " 2024-12-17 23:59:00  0.867231  0.502327       False\n",
       " 2024-12-18 00:00:00   0.96144  0.440174       False\n",
       " \n",
       " [1000 rows x 3 columns],\n",
       " 'preds':                          pred significant_tokens\n",
       " timestamp                                       \n",
       " 2024-12-17 07:21:00       NaN                NaN\n",
       " 2024-12-17 07:22:00       NaN                NaN\n",
       " 2024-12-17 07:23:00       NaN                NaN\n",
       " 2024-12-17 07:24:00       NaN                NaN\n",
       " 2024-12-17 07:25:00       NaN                NaN\n",
       " ...                       ...                ...\n",
       " 2024-12-17 23:56:00  -0.00017         [DOGEUSDT]\n",
       " 2024-12-17 23:57:00  0.000201         [DOGEUSDT]\n",
       " 2024-12-17 23:58:00 -0.000084         [DOGEUSDT]\n",
       " 2024-12-17 23:59:00 -0.000048         [DOGEUSDT]\n",
       " 2024-12-18 00:00:00 -0.000174                 []\n",
       " \n",
       " [1000 rows x 2 columns]}"
      ]
     },
     "execution_count": 8,
     "metadata": {},
     "output_type": "execute_result"
    }
   ],
   "source": [
    "data[\"ADAUSDT\"]"
   ]
  },
  {
   "cell_type": "code",
   "execution_count": 23,
   "metadata": {},
   "outputs": [
    {
     "data": {
      "text/plain": [
       "pred                  883\n",
       "significant_tokens    883\n",
       "dtype: int64"
      ]
     },
     "execution_count": 23,
     "metadata": {},
     "output_type": "execute_result"
    }
   ],
   "source": [
    "dfs = {}\n",
    "preds = {}\n",
    "stats = {}\n",
    "for t in tickers:\n",
    "    preds[t] = pd.DataFrame(data[t][\"preds\"])\n",
    "    stats[t] = pd.DataFrame(data[t][\"stats\"])\n",
    "\n",
    "\n",
    "preds[\"BTCUSDT\"][1:].isna().sum()"
   ]
  }
 ],
 "metadata": {
  "kernelspec": {
   "display_name": ".venv",
   "language": "python",
   "name": "python3"
  },
  "language_info": {
   "codemirror_mode": {
    "name": "ipython",
    "version": 3
   },
   "file_extension": ".py",
   "mimetype": "text/x-python",
   "name": "python",
   "nbconvert_exporter": "python",
   "pygments_lexer": "ipython3",
   "version": "3.11.5"
  }
 },
 "nbformat": 4,
 "nbformat_minor": 2
}
